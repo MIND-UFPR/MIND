{
 "cells": [
  {
   "cell_type": "code",
   "execution_count": null,
   "id": "6730752e",
   "metadata": {
    "vscode": {
     "languageId": "plaintext"
    }
   },
   "outputs": [],
   "source": [
    "Vamos fazer uma rede MLP para treinar um modelo que antecipa resultados de candidatos do ENEM com base em seus dados\n",
    "e características. Uma rede bem vanila será criada."
   ]
  }
 ],
 "metadata": {
  "language_info": {
   "name": "python"
  }
 },
 "nbformat": 4,
 "nbformat_minor": 5
}
